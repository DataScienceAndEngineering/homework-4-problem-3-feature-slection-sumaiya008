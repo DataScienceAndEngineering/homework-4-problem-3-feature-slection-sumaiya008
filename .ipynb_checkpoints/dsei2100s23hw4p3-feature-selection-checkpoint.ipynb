{
 "cells": [
  {
   "cell_type": "markdown",
   "id": "aa4a39cd-ed35-4ad8-aa61-28d8a420a3c1",
   "metadata": {},
   "source": [
    "# HW04: Problem 3: Feature Selection\n",
    "\n",
    "## Description\n",
    "\n",
    "In this problem we will work with the diabetes dataset from sklearn. This data set is for a regression problem where 10 features are used to predict the progression of diabetes. The dataset is described in more detail [here](https://scikit-learn.org/stable/datasets/toy_dataset.html#diabetes-dataset). You task here is to use multiple techniques of feature selection to try to interpret the strength of the features in the dataset. You will need to use the following techniques:\n",
    "\n",
    "- Pearson correlation coefficient using r_regression from sklearn (univariate feature selection)\n",
    "- Mutual information using mutual_info_regression from sklearn (univariate feature selection)\n",
    "- Random forest feature importance using RandomForestRegressor from sklearn (multivariate feature selection)\n",
    "- Recursive feature elimination using sklearn.feature.selection.RFE with a Support Vector Regressor SVR (multivariate feature selection)\n",
    "\n",
    "For each method you will need to plot the feature importance as a bar graph. The importance goes by different names in different algorithms. For example, in r_regression it is just the output (r value) and the mutual information in mutual_info_regression. In random variable it is called feature_importance_ and in RFE it is the ranking_. The bar graph will be sorted from most important features to least important features, with the y value being the importance of that feature, and the x value being the rank but labeled with the feature name.\n",
    "You will also need to print out the top 5 features for each method. You will need to use the following code to load the data and split it into training and testing sets. You will need to use the training set for all of the feature selection methods.\n",
    "\n",
    "* Are there 3 features that are selected in the top 5 by all 4 methods? \n",
    "* If so, what are they? \n",
    "* If not, what are the 3 features that are selected by the most methods? \n",
    "* How would it be possible that univariate methods might select different features than multivariate methods? \n",
    "* How does dependence between features affect the feature selection methods?\n",
    "\n",
    "For good habits, make sure you split your code into training and testing. You may not even use the testing data but when you do any analysis such as feature selection, remember you must not use the testing data. You should also make sure you use the same random seed for all of your feature selection methods so that you can compare the results.\n",
    "\n",
    "## Hints: In sorting features you use \"arg\" sort. This will return the indices of the sorted array. You can use these indices to sort the feature names.\n",
    "\n",
    "This kind of code will be useful for plotting the bar graph:\n",
    "\n",
    "```python\n",
    "r_inds = np.argsort(np.abs(r_importance))[::-1]\n",
    "fig, ax = plt.subplots()\n",
    "rank = np.arange(len(data.feature_names))\n",
    "ax.bar(rank, r_importance[r_inds])\n",
    "ax.set_xticks(rank)\n",
    "ax.set_xticklabels(np.array(data.feature_names)[r_inds])\n",
    "```"
   ]
  },
  {
   "cell_type": "code",
   "execution_count": 2,
   "id": "24211c5d-8831-4401-a941-1ae3c6e33e09",
   "metadata": {},
   "outputs": [],
   "source": [
    "# Some imports you will need\n",
    "import numpy as np\n",
    "from sklearn.datasets import load_diabetes\n",
    "from sklearn.model_selection import train_test_split\n",
    "from matplotlib import pyplot as plt\n",
    "from numpy import corrcoef\n",
    "import seaborn as sns\n",
    "from sklearn.feature_selection import r_regression\n",
    "from sklearn.feature_selection import mutual_info_regression\n",
    "from sklearn.feature_selection import RFE\n",
    "from sklearn.ensemble import RandomForestRegressor\n",
    "from sklearn.svm import SVR\n",
    "import pandas as pd\n",
    "import random"
   ]
  },
  {
   "cell_type": "markdown",
   "id": "68bffa0c-62aa-4da5-a81a-db0992f58fe6",
   "metadata": {},
   "source": [
    "## Loading and preparing the data"
   ]
  },
  {
   "cell_type": "code",
   "execution_count": 3,
   "id": "1cf42116-e3c2-4343-87e8-1e6c7986f51c",
   "metadata": {},
   "outputs": [],
   "source": [
    "# Load the diabetes data set as X, y\n",
    "X, y = load_diabetes(return_X_y=True)\n",
    "# Load the diabetes data set as data to read the description\n",
    "data = load_diabetes()"
   ]
  },
  {
   "cell_type": "code",
   "execution_count": null,
   "id": "7a56c3c7",
   "metadata": {},
   "outputs": [],
   "source": []
  },
  {
   "cell_type": "code",
   "execution_count": 4,
   "id": "6b91fa04-a015-402c-b439-dbbcd2638a1a",
   "metadata": {},
   "outputs": [
    {
     "name": "stdout",
     "output_type": "stream",
     "text": [
      ".. _diabetes_dataset:\n",
      "\n",
      "Diabetes dataset\n",
      "----------------\n",
      "\n",
      "Ten baseline variables, age, sex, body mass index, average blood\n",
      "pressure, and six blood serum measurements were obtained for each of n =\n",
      "442 diabetes patients, as well as the response of interest, a\n",
      "quantitative measure of disease progression one year after baseline.\n",
      "\n",
      "**Data Set Characteristics:**\n",
      "\n",
      "  :Number of Instances: 442\n",
      "\n",
      "  :Number of Attributes: First 10 columns are numeric predictive values\n",
      "\n",
      "  :Target: Column 11 is a quantitative measure of disease progression one year after baseline\n",
      "\n",
      "  :Attribute Information:\n",
      "      - age     age in years\n",
      "      - sex\n",
      "      - bmi     body mass index\n",
      "      - bp      average blood pressure\n",
      "      - s1      tc, total serum cholesterol\n",
      "      - s2      ldl, low-density lipoproteins\n",
      "      - s3      hdl, high-density lipoproteins\n",
      "      - s4      tch, total cholesterol / HDL\n",
      "      - s5      ltg, possibly log of serum triglycerides level\n",
      "      - s6      glu, blood sugar level\n",
      "\n",
      "Note: Each of these 10 feature variables have been mean centered and scaled by the standard deviation times the square root of `n_samples` (i.e. the sum of squares of each column totals 1).\n",
      "\n",
      "Source URL:\n",
      "https://www4.stat.ncsu.edu/~boos/var.select/diabetes.html\n",
      "\n",
      "For more information see:\n",
      "Bradley Efron, Trevor Hastie, Iain Johnstone and Robert Tibshirani (2004) \"Least Angle Regression,\" Annals of Statistics (with discussion), 407-499.\n",
      "(https://web.stanford.edu/~hastie/Papers/LARS/LeastAngle_2002.pdf)\n",
      "\n"
     ]
    }
   ],
   "source": [
    "# Print out the DESCR attribute to inpect the variables\n",
    "print(data.DESCR)"
   ]
  },
  {
   "cell_type": "code",
   "execution_count": 5,
   "id": "1b6f5d6f-4a81-4b97-9ca3-a15ac360e52e",
   "metadata": {},
   "outputs": [
    {
     "name": "stdout",
     "output_type": "stream",
     "text": [
      "['age', 'sex', 'bmi', 'bp', 's1', 's2', 's3', 's4', 's5', 's6']\n"
     ]
    }
   ],
   "source": [
    "# Print the array of feature names\n",
    "print(data.feature_names)"
   ]
  },
  {
   "cell_type": "code",
   "execution_count": 6,
   "id": "5130ef8b-7364-42c5-bfbe-abcabe5e5592",
   "metadata": {},
   "outputs": [],
   "source": [
    "# Split the Data into train/testing sets\n",
    "X_train, X_test, y_train, y_test = train_test_split(X, y, test_size=0.2, random_state=42)"
   ]
  },
  {
   "cell_type": "code",
   "execution_count": 7,
   "id": "8eb090c2-a531-4432-b10a-3192a0d25383",
   "metadata": {},
   "outputs": [
    {
     "name": "stdout",
     "output_type": "stream",
     "text": [
      "(353, 10) (353,)\n",
      "(89, 10) (89,)\n"
     ]
    }
   ],
   "source": [
    "# Check the shapes\n",
    "print(X_train.shape, y_train.shape)\n",
    "print(X_test.shape, y_test.shape)"
   ]
  },
  {
   "cell_type": "code",
   "execution_count": null,
   "id": "f99a2c03-e007-491f-96cd-a13ff768a319",
   "metadata": {},
   "outputs": [],
   "source": [
    "# Do a pair plot \n",
    "sns.pairplot(data=pd.DataFrame(X_train, columns=data.feature_names))\n",
    "plt.show()"
   ]
  },
  {
   "cell_type": "markdown",
   "id": "d9e62670-d3e4-4359-a24a-65161d4c61f1",
   "metadata": {},
   "source": [
    "Q: What does the EDA tell you about the data?\n",
    "\n",
    "A Here: From the pair plot, we can see that some features have a stronger correlation with the target variable than others. The relationship between some of the features also suggests that there may be collinearity between them."
   ]
  },
  {
   "cell_type": "code",
   "execution_count": null,
   "id": "ba20f24c",
   "metadata": {},
   "outputs": [],
   "source": []
  },
  {
   "cell_type": "markdown",
   "id": "4f40b553-b6f6-4fd7-866a-d00ac8875a7c",
   "metadata": {},
   "source": [
    "## Univariate feature selection with r_regression"
   ]
  },
  {
   "cell_type": "code",
   "execution_count": 9,
   "id": "8c54fe6d-df5f-4117-bf4a-5ec10f30274f",
   "metadata": {},
   "outputs": [],
   "source": [
    "# Use r_regression to get the feature importance, sort by the absolute value\n",
    "# but show the signed value on y and label on x by variable name\n",
    "# Should be a bar graph\n",
    "\n",
    "r_importance = r_regression(X_train, y_train)"
   ]
  },
  {
   "cell_type": "code",
   "execution_count": 10,
   "id": "724f100c",
   "metadata": {},
   "outputs": [
    {
     "data": {
      "image/png": "[encoded data removed]",
      "text/plain": [
       "<Figure size 640x480 with 1 Axes>"
      ]
     },
     "metadata": {},
     "output_type": "display_data"
    }
   ],
   "source": [
    "r_inds = np.argsort(np.abs(r_importance))[::-1]\n",
    "fig, ax = plt.subplots()\n",
    "rank = np.arange(len(data.feature_names))\n",
    "ax.bar(rank, r_importance[r_inds])\n",
    "ax.set_xticks(rank)\n",
    "ax.set_xticklabels(np.array(data.feature_names)[r_inds])\n",
    "plt.title(\"Univariate feature selection with Pearson correlation coefficient\")\n",
    "plt.show()\n"
   ]
  },
  {
   "cell_type": "code",
   "execution_count": 11,
   "id": "6c2289c4-a12c-4fec-b810-c31b12927459",
   "metadata": {},
   "outputs": [
    {
     "name": "stdout",
     "output_type": "stream",
     "text": [
      "Top 5 features according to r_regression:\n",
      "['bmi' 's5' 'bp' 's4' 's6']\n"
     ]
    }
   ],
   "source": [
    "# print the top 5 features according to r_regression?\n",
    "print(\"Top 5 features according to r_regression:\")\n",
    "print(np.array(data.feature_names)[r_inds[:5]])"
   ]
  },
  {
   "cell_type": "markdown",
   "id": "f727134c-16a5-406e-a19e-d0eebcf85348",
   "metadata": {},
   "source": [
    "## Univariate feature selection with mutual information using mutual_info_regression"
   ]
  },
  {
   "cell_type": "code",
   "execution_count": 12,
   "id": "ce8e90e9-28be-4523-9517-17f9b7837c82",
   "metadata": {},
   "outputs": [
    {
     "data": {
      "image/png": "[encoded data removed]",
      "text/plain": [
       "<Figure size 640x480 with 1 Axes>"
      ]
     },
     "metadata": {},
     "output_type": "display_data"
    }
   ],
   "source": [
    "# Use mutual_info_regression to get the feature importance, sort by the absolute value\n",
    "# but show the signed value on y and label on x by variable name\n",
    "# Should be a bar graph\n",
    "mi_importance = mutual_info_regression(X_train, y_train)\n",
    "\n",
    "mi_inds = np.argsort(np.abs(mi_importance))[::-1]\n",
    "fig, ax = plt.subplots()\n",
    "rank = np.arange(len(data.feature_names))\n",
    "ax.bar(rank, mi_importance[mi_inds])\n",
    "ax.set_xticks(rank)\n",
    "ax.set_xticklabels(np.array(data.feature_names)[mi_inds])\n",
    "plt.title(\"Univariate feature selection with mutual information\")\n",
    "plt.show()"
   ]
  },
  {
   "cell_type": "code",
   "execution_count": 13,
   "id": "fa0b71bf-f413-48c8-833e-21ec48277f27",
   "metadata": {},
   "outputs": [
    {
     "name": "stdout",
     "output_type": "stream",
     "text": [
      "Top 5 features according to mutual_info_regression:\n",
      "['bmi' 's5' 's6' 's4' 's2']\n"
     ]
    }
   ],
   "source": [
    "# What are the top 5 features according to mutual_info_regression?\n",
    "print(\"Top 5 features according to mutual_info_regression:\")\n",
    "print(np.array(data.feature_names)[mi_inds[:5]])"
   ]
  },
  {
   "cell_type": "markdown",
   "id": "72fecc71-72fd-4f33-ac39-ad97d593983e",
   "metadata": {},
   "source": [
    "## Multivariate feature selection with Random Forest feature_importance_"
   ]
  },
  {
   "cell_type": "code",
   "execution_count": 14,
   "id": "828f530d",
   "metadata": {},
   "outputs": [
    {
     "data": {
      "text/plain": [
       "array([0.05864167, 0.00963304, 0.35546898, 0.08840759, 0.05278353,\n",
       "       0.05722749, 0.05133862, 0.02421276, 0.23095698, 0.07132935])"
      ]
     },
     "execution_count": 14,
     "metadata": {},
     "output_type": "execute_result"
    }
   ],
   "source": [
    "rf = RandomForestRegressor(n_estimators=100, random_state=42)\n",
    "rf.fit(X_train, y_train)\n",
    "rf_importance = rf.feature_importances_\n",
    "rf_importance"
   ]
  },
  {
   "cell_type": "code",
   "execution_count": 22,
   "id": "69f51a20",
   "metadata": {},
   "outputs": [
    {
     "data": {
      "text/plain": [
       "<BarContainer object of 10 artists>"
      ]
     },
     "execution_count": 22,
     "metadata": {},
     "output_type": "execute_result"
    },
    {
     "data": {
      "image/png": "[encoded data removed]",
      "text/plain": [
       "<Figure size 640x480 with 1 Axes>"
      ]
     },
     "metadata": {},
     "output_type": "display_data"
    }
   ],
   "source": [
    "plt.barh(data.feature_names, rf.feature_importances_)"
   ]
  },
  {
   "cell_type": "code",
   "execution_count": 15,
   "id": "d0d5e9f2",
   "metadata": {},
   "outputs": [
    {
     "data": {
      "image/png": "[encoded data removed]",
      "text/plain": [
       "<Figure size 640x480 with 1 Axes>"
      ]
     },
     "metadata": {},
     "output_type": "display_data"
    }
   ],
   "source": [
    "rf_inds = np.argsort(np.abs(rf_importance))[::-1]\n",
    "\n",
    "fig, ax = plt.subplots()\n",
    "rank = np.arange(len(data.feature_names))\n",
    "ax.bar(rank, rf_importance[rf_inds])\n",
    "ax.set_xticks(rank)\n",
    "ax.set_xticklabels(np.array(data.feature_names)[rf_inds])\n",
    "plt.xticks(rotation=90)\n",
    "plt.title('Feature Importance Using Random Forest')\n",
    "plt.show()"
   ]
  },
  {
   "cell_type": "code",
   "execution_count": 23,
   "id": "fdb44bb7-c6e1-499e-863b-da7417152b3a",
   "metadata": {},
   "outputs": [
    {
     "name": "stdout",
     "output_type": "stream",
     "text": [
      "Top 5 features according to Random forest:\n",
      "['bmi' 's5' 'bp' 's6' 'age']\n"
     ]
    }
   ],
   "source": [
    "# What are the top 5 features according to random forest feature_importance_?\n",
    "print(\"Top 5 features according to Random forest:\")\n",
    "print(np.array(data.feature_names)[rf_inds[:5]])"
   ]
  },
  {
   "cell_type": "markdown",
   "id": "bf3e8967-a1ad-42e2-99b4-5119c4f2c0b6",
   "metadata": {},
   "source": [
    "## Multivariate feature selection with recursive feature elimination (RFE) using a support vector regressor"
   ]
  },
  {
   "cell_type": "code",
   "execution_count": 24,
   "id": "f1c92c89-8842-4b38-a3fd-b2413b7459f7",
   "metadata": {},
   "outputs": [
    {
     "data": {
      "text/plain": [
       "array([ 8, 10,  1,  3,  7,  9,  6,  4,  2,  5])"
      ]
     },
     "execution_count": 24,
     "metadata": {},
     "output_type": "execute_result"
    }
   ],
   "source": [
    "# Use recursive feature elimination (RFE) with a support vector regressor \n",
    "# to get the feature importance, sort by the absolute value\n",
    "# but show the signed value on y and label on x by variable name\n",
    "# Should be a bar graph\n",
    "\n",
    "estimator = SVR(kernel=\"linear\")\n",
    "selector = RFE(estimator, n_features_to_select=1, step=1)\n",
    "selector = selector.fit(X_train, y_train)\n",
    "rfe_importance = selector.ranking_\n",
    "rfe_importance"
   ]
  },
  {
   "cell_type": "code",
   "execution_count": 25,
   "id": "6bc72133",
   "metadata": {},
   "outputs": [
    {
     "data": {
      "image/png": "[encoded data removed]",
      "text/plain": [
       "<Figure size 640x480 with 1 Axes>"
      ]
     },
     "metadata": {},
     "output_type": "display_data"
    }
   ],
   "source": [
    "rfe_inds = np.argsort(rfe_importance)\n",
    "#rfe_top5_features = data.feature_names[rfe_inds][:5]\n",
    "\n",
    "fig, ax = plt.subplots()\n",
    "rank = np.arange(len(data.feature_names))\n",
    "ax.bar(rank, rfe_importance[rfe_inds])\n",
    "ax.set_xticks(rank)\n",
    "ax.set_xticklabels(np.array(data.feature_names)[rfe_inds])\n",
    "plt.xticks(rotation=90)\n",
    "plt.title('Feature Importance Using RFE with SVR')\n",
    "plt.show()"
   ]
  },
  {
   "cell_type": "code",
   "execution_count": 26,
   "id": "f77104ef-bbf1-4788-8b3c-6077937cceb4",
   "metadata": {},
   "outputs": [
    {
     "name": "stdout",
     "output_type": "stream",
     "text": [
      "Top 5 features according to RFE with SVR:\n",
      "['bmi' 's5' 'bp' 's4' 's6']\n"
     ]
    }
   ],
   "source": [
    "# What are the top 5 features according to RFE with SVR?\n",
    "print(\"Top 5 features according to RFE with SVR:\")\n",
    "print(np.array(data.feature_names)[rfe_inds[:5]])"
   ]
  },
  {
   "cell_type": "markdown",
   "id": "2be0d412-fe5f-4d60-b45f-061669037e64",
   "metadata": {},
   "source": [
    "## Conclusions\n",
    "\n",
    "#### Q1: Are there 3 features that are selected in the top 5 by all 4 methods?\n",
    "\n",
    "A1: Yes, thre is 3 features.\n",
    "\n",
    "#### Q2: If so, what are they? / If not, what are the 3 features that are selected by the most methods? \n",
    "\n",
    "A2: They are bmi,s5 & s6\n",
    "\n",
    "#### Q3: How would it be possible that univariate methods might select different features than multivariate methods?\n",
    "\n",
    "A3: There are several reasons why univariate and multivariate methods might select different features:\n",
    "\n",
    "##### Correlation between features:\n",
    "Univariate methods do not consider the correlation between features, so they might select two highly correlated features separately. On the other hand, multivariate methods can detect the correlation between features and only select one of them.\n",
    "\n",
    "##### Overfitting:\n",
    "Univariate methods can be prone to overfitting because they select features based solely on their individual correlation with the target variable, without considering the relationship between features. Multivariate methods can help to prevent overfitting by selecting features that have a strong relationship with the target variable while minimizing the overlap between selected features.\n",
    "\n",
    "#### Q4: How does dependence between features affect the feature selection methods?\n",
    "\n",
    "A4: If features are highly correlated, selecting one feature may be enough to represent the information contained in the other features. In this case, feature selection methods that take into account the correlation between features, such as principal component analysis (PCA) or linear discriminant analysis (LDA), can be used to reduce the dimensionality of the dataset and select the most informative features."
   ]
  },
  {
   "cell_type": "code",
   "execution_count": null,
   "id": "c1bc1277-1d2b-4d1a-848a-bd5e99ec4e2e",
   "metadata": {},
   "outputs": [],
   "source": []
  }
 ],
 "metadata": {
  "kernelspec": {
   "display_name": "Python 3 (ipykernel)",
   "language": "python",
   "name": "python3"
  },
  "language_info": {
   "codemirror_mode": {
    "name": "ipython",
    "version": 3
   },
   "file_extension": ".py",
   "mimetype": "text/x-python",
   "name": "python",
   "nbconvert_exporter": "python",
   "pygments_lexer": "ipython3",
   "version": "3.11.1"
  },
  "nteract": {
   "version": "0.28.0"
  },
  "vscode": {
   "interpreter": {
    "hash": "aee8b7b246df8f9039afb4144a1f6fd8d2ca17a180786b69acc140d282b71a49"
   }
  }
 },
 "nbformat": 4,
 "nbformat_minor": 5
}
